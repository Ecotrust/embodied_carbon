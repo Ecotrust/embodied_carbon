{
 "cells": [
  {
   "cell_type": "code",
   "execution_count": 1,
   "metadata": {},
   "outputs": [],
   "source": [
    "import pandas as pd\n",
    "import csv"
   ]
  },
  {
   "cell_type": "code",
   "execution_count": 2,
   "metadata": {},
   "outputs": [],
   "source": [
    "fips_codes = pd.read_html('https://en.wikipedia.org/wiki/List_of_United_States_FIPS_codes_by_county')[1]\n",
    "fips_codes['COUNTY'] = fips_codes['County or equivalent'].apply(lambda x: x.split('County')[0])\n",
    "fips_codes = fips_codes.rename({'State or equivalent': 'STATE'}, axis=1).drop(['County or equivalent'], axis=1)\n",
    "fips_codes = fips_codes.set_index('FIPS')"
   ]
  },
  {
   "cell_type": "code",
   "execution_count": 3,
   "metadata": {},
   "outputs": [],
   "source": [
    "def fetch_mber(county_fips):\n",
    "    url = f'http://www.bber.umt.edu/FIR/HarvestT1.aspx?co={county_fips}'\n",
    "    df = pd.read_html(url, skiprows=[0,1], header=0)[0]\n",
    "    df.columns = ['YEAR'] + [col.replace('.', '').upper() for col in df.columns[1:]]\n",
    "    df[df.columns] = df[df.columns].astype(int)\n",
    "    df = df.melt(id_vars=['YEAR'], \n",
    "                 value_vars=['INDUSTRY', 'NIPF & TRIBAL', 'STATE', 'FOREST SERVICE', 'BLM & OTHER PUBLIC', 'TOTAL'],\n",
    "                 var_name='OWNER', value_name='OUTPUT_MBF')\n",
    "    df.insert(0, 'STATE', fips_codes.loc[county_fips, 'STATE'])\n",
    "    df.insert(1, 'COUNTY', fips_codes.loc[county_fips, 'COUNTY'])\n",
    "    df.insert(2, 'FIPS', county_fips)\n",
    "    return df"
   ]
  },
  {
   "cell_type": "code",
   "execution_count": 4,
   "metadata": {},
   "outputs": [],
   "source": [
    "STATES_TO_FETCH = ['Oregon', 'Washington', 'Idaho', 'California', 'Montana']\n",
    "counties_to_fetch = fips_codes.loc[fips_codes.STATE.isin(STATES_TO_FETCH)]"
   ]
  },
  {
   "cell_type": "code",
   "execution_count": 5,
   "metadata": {},
   "outputs": [
    {
     "name": "stdout",
     "output_type": "stream",
     "text": [
      "Fetching 233 county reports from MBER.\n",
      ".........10.........20.........30.........40.........50\n",
      ".........60.........70.........80.........90.........100\n",
      ".........110.........120.........130.........140.........150\n",
      ".........160.........170.........180.........190.........200\n",
      ".........210.........220.........230...Done.\n"
     ]
    }
   ],
   "source": [
    "dfs = []\n",
    "print('Fetching {:,d} county reports from MBER.'.format(len(counties_to_fetch)))\n",
    "for i, fips in enumerate(counties_to_fetch.index):\n",
    "    dfs.append(fetch_mber(fips))\n",
    "    if (i+1) % 10 == 0 and i > 0:\n",
    "        print('{:,d}'.format(i+1), end='')\n",
    "    else:\n",
    "        print('.', end='')\n",
    "    if (i+1) % 50 == 0:\n",
    "        print()\n",
    "print('Done.')"
   ]
  },
  {
   "cell_type": "code",
   "execution_count": 6,
   "metadata": {},
   "outputs": [
    {
     "name": "stdout",
     "output_type": "stream",
     "text": [
      "<class 'pandas.core.frame.DataFrame'>\n",
      "Int64Index: 18144 entries, 0 to 101\n",
      "Data columns (total 6 columns):\n",
      " #   Column      Non-Null Count  Dtype \n",
      "---  ------      --------------  ----- \n",
      " 0   STATE       18144 non-null  object\n",
      " 1   COUNTY      18144 non-null  object\n",
      " 2   FIPS        18144 non-null  int64 \n",
      " 3   YEAR        18144 non-null  int32 \n",
      " 4   OWNER       18144 non-null  object\n",
      " 5   OUTPUT_MBF  18144 non-null  int32 \n",
      "dtypes: int32(2), int64(1), object(3)\n",
      "memory usage: 850.5+ KB\n"
     ]
    }
   ],
   "source": [
    "mber_data = pd.concat(dfs, axis=0)\n",
    "mber_data.info()"
   ]
  },
  {
   "cell_type": "code",
   "execution_count": 7,
   "metadata": {},
   "outputs": [],
   "source": [
    "mber_data.to_csv('C:/GitHub/embodied_carbon/data/interim/mber_data_by_county.csv', \n",
    "                index=False, header=True,\n",
    "                quoting=csv.QUOTE_NONNUMERIC)"
   ]
  }
 ],
 "metadata": {
  "kernelspec": {
   "display_name": "Python 3",
   "language": "python",
   "name": "python3"
  },
  "language_info": {
   "codemirror_mode": {
    "name": "ipython",
    "version": 3
   },
   "file_extension": ".py",
   "mimetype": "text/x-python",
   "name": "python",
   "nbconvert_exporter": "python",
   "pygments_lexer": "ipython3",
   "version": "3.7.6"
  }
 },
 "nbformat": 4,
 "nbformat_minor": 4
}
