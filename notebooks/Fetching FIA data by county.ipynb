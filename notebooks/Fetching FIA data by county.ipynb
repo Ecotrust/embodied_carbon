{
 "cells": [
  {
   "cell_type": "code",
   "execution_count": 1,
   "metadata": {},
   "outputs": [],
   "source": [
    "import requests\n",
    "import pandas as pd\n",
    "import numpy as np\n",
    "import csv\n",
    "from lxml import html\n",
    "from concurrent.futures import as_completed, ThreadPoolExecutor\n",
    "from tqdm.notebook import tqdm"
   ]
  },
  {
   "cell_type": "code",
   "execution_count": 2,
   "metadata": {},
   "outputs": [],
   "source": [
    "# fetch FIA data from Evalidator\n",
    "START_URL = 'https://apps.fs.usda.gov/Evalidator/evalidator.jsp' # GET\n",
    "STEP1_URL = 'https://apps.fs.usda.gov/Evalidator/page1tmattrPost.jsp' # POST \n",
    "STEP2_URL = 'https://apps.fs.usda.gov/Evalidator/page2tmattrPostB.jsp' # POST \n",
    "STEP3_URL = 'https://apps.fs.usda.gov/Evalidator/page3tmgeogPost.jsp' # POST \n",
    "STEP4_URL = 'https://apps.fs.usda.gov/Evalidator/page4tmprcPost.jsp' # POST row and column variables\n",
    "\n",
    "PAYLOAD_1 = {'reportType': 'State',\n",
    "             'latTextBox': '',\n",
    "             'lonTextBox': '', \n",
    "             'radiusTextBox': '',\n",
    "             'landbasis': 'Forest land',\n",
    "#              'numestngroup': 'Annual harvest removals dry weight',\n",
    "             'denestngroup': 'No denominator - just produce estimates',\n",
    "             'STANDARD': 'Continue',\n",
    "}\n",
    "\n",
    "PAYLOAD_2 = {\n",
    "#     'numeratorAttributeSel': 'Average annual harvest removals of aboveground biomass of trees (at least 1 inches d.b.h./d.r.c.), in dry short tons, on forest land',\n",
    "    'denominatorAttributeSel': 'No denominator - just produce estimates',\n",
    "    'FIAorRPA': 'RPADEF',\n",
    "    'ALLINV': 'YES',\n",
    "    'STANDARD': 'Continue',\n",
    "}\n",
    "\n",
    "PAYLOAD_3 = {\n",
    "#     'geog_sel': '012012Y ALABAMA 2006;2007;2008;2009;2010;2011;2012',\n",
    "    'standard': 'Continue',\n",
    "}\n",
    "\n",
    "PAYLOAD_4 = {\n",
    "    'prc_sel_page': 'Reserved status class',\n",
    "    'prc_sel_page_time': 'Current',\n",
    "    'prc_sel_row': 'County code and name',\n",
    "    'prc_sel_row_time': 'Current',\n",
    "    'r1': '',\n",
    "    'prc_sel_col': 'Ownership group',\n",
    "    'prc_sel_col_time': 'Current',\n",
    "    'c1': '',\n",
    "    'FILTERYESNO': 'NO',\n",
    "    'ESTONLY': 'N',\n",
    "}"
   ]
  },
  {
   "cell_type": "code",
   "execution_count": 3,
   "metadata": {},
   "outputs": [],
   "source": [
    "def get_evalidator_geog_sel_options(numestngroup, numeratorAttributeSel):\n",
    "    with requests.Session() as s:\n",
    "        s.headers.update({'User-Agent': 'Mozilla/5.0'})\n",
    "        s.get(START_URL)\n",
    "        payload_1 = dict(PAYLOAD_1, **{'numestngroup': numestngroup})\n",
    "        s.post(STEP1_URL, data=payload_1)\n",
    "        payload_2 = dict(PAYLOAD_2, **{'numeratorAttributeSel': numeratorAttributeSel})\n",
    "        r = s.post(STEP2_URL, data=payload_2)\n",
    "    tree = html.fromstring(r.content)\n",
    "    sel = tree.xpath('/html/body/form/select')\n",
    "    geog_opts = [x.text.strip() for x in sel[0].getchildren()]\n",
    "    return geog_opts"
   ]
  },
  {
   "cell_type": "code",
   "execution_count": 25,
   "metadata": {},
   "outputs": [],
   "source": [
    "def fetch_fia_data_by_county(numestngroup, numerator, geog_sel):\n",
    "\n",
    "    with requests.Session() as s:\n",
    "        s.headers.update({'User-Agent': 'Mozilla/5.0'})\n",
    "        s.get(START_URL)\n",
    "        payload_1 = dict(PAYLOAD_1, **{'numestngroup': numestngroup})\n",
    "        s.post(STEP1_URL, data=payload_1)\n",
    "        payload_2 = dict(PAYLOAD_2, **{'numeratorAttributeSel': numerator})\n",
    "        s.post(STEP2_URL, data=payload_2)\n",
    "        payload_3 = dict(PAYLOAD_3, **{'geog_sel': geog_sel})\n",
    "        s.post(STEP3_URL, data=payload_3)\n",
    "        response = s.post(STEP4_URL, data=PAYLOAD_4)\n",
    "        \n",
    "    outputs = pd.read_html(response.content, skiprows=[0,2], header=0)\n",
    "    try:\n",
    "        unreserved_mean = outputs[3].replace('-', 0).set_index('County code and name').astype(float)\n",
    "        unreserved_std_err = outputs[4].replace('-', 0).set_index('County code and name').astype(float)\n",
    "        unreserved_count = outputs[5].replace('-', 0).set_index('County code and name').astype(float)\n",
    "        unreserved_std = unreserved_std_err * np.sqrt(unreserved_count)\n",
    "    except:\n",
    "        print(f'{geog_sel} has no County code and name.')\n",
    "        return        \n",
    "\n",
    "    tables = [unreserved_mean, unreserved_std, unreserved_count]\n",
    "    for j, table in enumerate(tables):\n",
    "        try:\n",
    "            table.insert(0, 'STATE', table.index.to_series().apply(lambda x: x.split()[1]))\n",
    "            table.insert(1, 'FIPS', table.index.to_series().apply(lambda x: x.split()[0]))\n",
    "            table.insert(2, 'COUNTY', table.index.to_series().apply(lambda x: x.split()[2]))\n",
    "        except:\n",
    "            print(f'{geog_sel} failed parsing.')\n",
    "            return\n",
    "        \n",
    "        table.insert(3, 'YEAR', int(geog_sel.split(' ')[0][2:6]))\n",
    "        table.insert(4, 'ALLYEARS', geog_sel.split(' ')[-1])\n",
    "        table.insert(5, 'MINYEAR', int(geog_sel.split(' ')[-1].split(';')[0]))\n",
    "        table.insert(6, 'MAXYEAR', int(geog_sel.split(' ')[-1].split(';')[-1]))\n",
    "        table.columns = [col.upper() for col in table.columns]\n",
    "        tables[j] = table.reset_index(drop=True)\n",
    "       \n",
    "\n",
    "    INDEX_COLS = ['STATE', 'FIPS', 'COUNTY', 'YEAR', 'ALLYEARS', 'MINYEAR', 'MAXYEAR']\n",
    "    STATS = ['MEAN', 'STDEV', 'COUNT']\n",
    "    for i, table in enumerate(tables):\n",
    "        table = table.set_index(INDEX_COLS)\n",
    "        table.columns = pd.MultiIndex.from_product([[STATS[i]], list(table.columns)], names=['STATISTIC', 'OWNER_GROUP'])\n",
    "        tables[i] = table\n",
    "    \n",
    "    fia_data = pd.concat(tables, axis=1)\n",
    "\n",
    "    return fia_data"
   ]
  },
  {
   "cell_type": "code",
   "execution_count": 5,
   "metadata": {},
   "outputs": [],
   "source": [
    "def multithreaded_download(numestngroup, numerator, num_threads=4):\n",
    "    geogs = get_evalidator_geog_sel_options(numestngroup, numerator)\n",
    "    to_download = [(numestngroup, numerator, geog) for geog in geogs]\n",
    "    with ThreadPoolExecutor(num_threads) as executor:\n",
    "        print('Starting to download data from EVALIDator.')\n",
    "        jobs = [executor.submit(fetch_fia_data_by_county, *params) for params in to_download]\n",
    "        results = []\n",
    "\n",
    "        for job in tqdm(as_completed(jobs), total=len(jobs)):\n",
    "            results.append(job.result())\n",
    "    \n",
    "    fia_data = pd.concat(results, axis=0)\n",
    "    \n",
    "    return fia_data"
   ]
  },
  {
   "cell_type": "code",
   "execution_count": 6,
   "metadata": {},
   "outputs": [
    {
     "name": "stdout",
     "output_type": "stream",
     "text": [
      "Starting to download data from EVALIDator.\n"
     ]
    },
    {
     "data": {
      "application/vnd.jupyter.widget-view+json": {
       "model_id": "8712223cec7145809721e2af89abd97e",
       "version_major": 2,
       "version_minor": 0
      },
      "text/plain": [
       "HBox(children=(HTML(value=''), FloatProgress(value=0.0, max=429.0), HTML(value='')))"
      ]
     },
     "metadata": {},
     "output_type": "display_data"
    },
    {
     "name": "stdout",
     "output_type": "stream",
     "text": [
      "\n"
     ]
    }
   ],
   "source": [
    "NUMESTNGROUP = 'Annual harvest removals dry weight'\n",
    "NUMERATOR = 'Average annual harvest removals of aboveground biomass of trees (at least 1 inches d.b.h./d.r.c.), in dry short tons, on forest land'\n",
    "\n",
    "fia_data = multithreaded_download(NUMESTNGROUP, NUMERATOR)\n",
    "fia_data.to_csv('C:/GitHub/embodied_carbon/data/interim/fia_harvest_removals_by_county.csv', \n",
    "                index=True, header=True,\n",
    "                quoting=csv.QUOTE_NONNUMERIC)"
   ]
  },
  {
   "cell_type": "code",
   "execution_count": 7,
   "metadata": {},
   "outputs": [
    {
     "name": "stdout",
     "output_type": "stream",
     "text": [
      "Starting to download data from EVALIDator.\n"
     ]
    },
    {
     "data": {
      "application/vnd.jupyter.widget-view+json": {
       "model_id": "652365b235c74203aba6ed6ab3bda303",
       "version_major": 2,
       "version_minor": 0
      },
      "text/plain": [
       "HBox(children=(HTML(value=''), FloatProgress(value=0.0, max=429.0), HTML(value='')))"
      ]
     },
     "metadata": {},
     "output_type": "display_data"
    },
    {
     "name": "stdout",
     "output_type": "stream",
     "text": [
      "172003N ILLINOIS 2001;2002;2003\n",
      "172004Y ILLINOIS 2001;2002;2003;2004\n",
      "172005Y ILLINOIS 2001;2002;2003;2004;2005\n",
      "\n"
     ]
    }
   ],
   "source": [
    "NUMESTNGROUP = 'Annual net growth dry weight'\n",
    "NUMERATOR = 'Average annual net growth of aboveground biomass of trees (at least 1 inches d.b.h./d.r.c.), in dry short tons, on forest land'\n",
    "fia_data = multithreaded_download(NUMESTNGROUP, NUMERATOR)\n",
    "fia_data.to_csv('C:/GitHub/embodied_carbon/data/interim/fia_net_growth_by_county.csv', \n",
    "                index=True, header=True,\n",
    "                quoting=csv.QUOTE_NONNUMERIC)"
   ]
  },
  {
   "cell_type": "code",
   "execution_count": 8,
   "metadata": {},
   "outputs": [
    {
     "name": "stdout",
     "output_type": "stream",
     "text": [
      "Starting to download data from EVALIDator.\n"
     ]
    },
    {
     "data": {
      "application/vnd.jupyter.widget-view+json": {
       "model_id": "61f891b235bc40d89d5d32bf49cbe3ef",
       "version_major": 2,
       "version_minor": 0
      },
      "text/plain": [
       "HBox(children=(HTML(value=''), FloatProgress(value=0.0, max=429.0), HTML(value='')))"
      ]
     },
     "metadata": {},
     "output_type": "display_data"
    },
    {
     "name": "stdout",
     "output_type": "stream",
     "text": [
      "172003N ILLINOIS 2001;2002;2003\n",
      "172004Y ILLINOIS 2001;2002;2003;2004\n",
      "172005Y ILLINOIS 2001;2002;2003;2004;2005\n",
      "\n"
     ]
    }
   ],
   "source": [
    "NUMESTNGROUP = 'Annual net change dry weight'\n",
    "NUMERATOR = 'Average annual net change of aboveground biomass of trees (at least 1 inches d.b.h./d.r.c.), in dry short tons, on forest land'\n",
    "fia_data = multithreaded_download(NUMESTNGROUP, NUMERATOR)\n",
    "fia_data.to_csv('C:/GitHub/embodied_carbon/data/interim/fia_net_change_by_county.csv', \n",
    "                index=True, header=True,\n",
    "                quoting=csv.QUOTE_NONNUMERIC)"
   ]
  },
  {
   "cell_type": "code",
   "execution_count": 26,
   "metadata": {},
   "outputs": [
    {
     "name": "stdout",
     "output_type": "stream",
     "text": [
      "Starting to download data from EVALIDator.\n"
     ]
    },
    {
     "data": {
      "application/vnd.jupyter.widget-view+json": {
       "model_id": "a4db7b9914ba41e39c7816cf0a955dda",
       "version_major": 2,
       "version_minor": 0
      },
      "text/plain": [
       "HBox(children=(HTML(value=''), FloatProgress(value=0.0, max=725.0), HTML(value='')))"
      ]
     },
     "metadata": {},
     "output_type": "display_data"
    },
    {
     "name": "stdout",
     "output_type": "stream",
     "text": [
      "602001N AMERICAN SAMOA 2001 failed parsing.\n",
      "602012N AMERICAN SAMOA 2012 failed parsing.\n",
      "642016N FEDERATED STATES OF  2016 failed parsing.\n",
      "642005N FEDERATED STATES OF  2005 failed parsing.\n",
      "662002N GUAM 2002 failed parsing.\n",
      "662013N GUAM 2013 failed parsing.\n",
      "692015N NORTHERN MARIANA ISL 2015 failed parsing.\n",
      "692004N NORTHERN MARIANA ISL 2004 failed parsing.\n",
      "702003N PALAU 2003 failed parsing.\n",
      "702014N PALAU 2014 failed parsing.\n",
      "\n"
     ]
    }
   ],
   "source": [
    "NUMESTNGROUP = \"Tree carbon\"\n",
    "NUMERATOR = \"Aboveground and belowground carbon in live trees (at least 1 inch d.b.h./d.r.c), in short tons, on forest land\"\n",
    "fia_data = multithreaded_download(NUMESTNGROUP, NUMERATOR)\n",
    "fia_data.to_csv('C:/GitHub/embodied_carbon/data/interim/fia_tree_carbon_by_county.csv', \n",
    "                index=True, header=True,\n",
    "                quoting=csv.QUOTE_NONNUMERIC)"
   ]
  }
 ],
 "metadata": {
  "kernelspec": {
   "display_name": "Python [conda env:stand_mapping]",
   "language": "python",
   "name": "conda-env-stand_mapping-py"
  },
  "language_info": {
   "codemirror_mode": {
    "name": "ipython",
    "version": 3
   },
   "file_extension": ".py",
   "mimetype": "text/x-python",
   "name": "python",
   "nbconvert_exporter": "python",
   "pygments_lexer": "ipython3",
   "version": "3.6.10"
  }
 },
 "nbformat": 4,
 "nbformat_minor": 4
}
